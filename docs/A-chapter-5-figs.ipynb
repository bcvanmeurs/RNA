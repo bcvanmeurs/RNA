{
 "cells": [
  {
   "cell_type": "markdown",
   "metadata": {},
   "source": [
    "# Chapter 5 figures"
   ]
  },
  {
   "cell_type": "markdown",
   "metadata": {},
   "source": [
    "## Figure 5.1"
   ]
  },
  {
   "cell_type": "code",
   "execution_count": null,
   "metadata": {},
   "outputs": [],
   "source": [
    "%load_ext autoreload\n",
    "%autoreload 2"
   ]
  },
  {
   "cell_type": "code",
   "execution_count": null,
   "metadata": {},
   "outputs": [],
   "source": [
    "import pandas as pd\n",
    "import networkx as nx\n",
    "import matplotlib.pyplot as plt\n",
    "import numpy as np"
   ]
  },
  {
   "cell_type": "code",
   "execution_count": null,
   "metadata": {},
   "outputs": [],
   "source": [
    "from context import RiverNetwork\n",
    "from RiverNetwork import RiverNetwork"
   ]
  },
  {
   "cell_type": "code",
   "execution_count": null,
   "metadata": {},
   "outputs": [],
   "source": [
    "structure2 = RiverNetwork('../data/single-segment-karahan.xlsx',dt=6)"
   ]
  },
  {
   "cell_type": "code",
   "execution_count": null,
   "metadata": {},
   "outputs": [],
   "source": [
    "inflow = np.array(pd.read_excel('../data/example-inflow-karahan.xlsx').Inflow)\n",
    "structure2.set_shape('S.1',21,inflow-22)\n",
    "structure2.calc_flow_propagation(22)"
   ]
  },
  {
   "cell_type": "code",
   "execution_count": null,
   "metadata": {},
   "outputs": [],
   "source": [
    "import seaborn as sns\n",
    "import pickle\n",
    "import matplotlib.pyplot as plt\n",
    "sns.set()\n",
    "sns.set_context(\"paper\", rc={\"font.size\":8.0, \n",
    "                             'lines.linewidth':1, \n",
    "                             'patch.linewidth':0.5, \n",
    "                             \"axes.titlesize\":8, \n",
    "                             \"axes.labelsize\":8, \n",
    "                             'xtick.labelsize':8, \n",
    "                             'ytick.labelsize':8, \n",
    "                             'legend.fontsize':8 ,  \n",
    "                             'pgf.rcfonts' : False})\n",
    "(fig,ax) = structure2.draw_Qin(figsize=(5,2))\n",
    "#fig.set_size_inches(5,3)\n",
    "fig.set_dpi(150)\n",
    "fig.patch.set_alpha(0)\n",
    "#plt.title('Single reach example')\n",
    "plt.tight_layout()\n",
    "plt.savefig('../../thesis/report/figs/karahan.pgf', bbox_inches = 'tight')"
   ]
  },
  {
   "cell_type": "markdown",
   "metadata": {},
   "source": [
    "##[Figure 5.2](A-ijssel/ijssel_muskingum.ipynb#Figure-5.2-for-thesis)"
   ]
  },
  {
   "cell_type": "markdown",
   "metadata": {},
   "source": [
    "## Figure 5.3"
   ]
  },
  {
   "cell_type": "code",
   "execution_count": null,
   "metadata": {},
   "outputs": [],
   "source": [
    "import pandas as pd\n",
    "import numpy as np\n",
    "import matplotlib.pyplot as plt\n",
    "from context import fit_muskingum\n",
    "from fit_muskingum import getParams\n",
    "from fit_muskingum import calc_Out\n",
    "from fit_muskingum import calc_C"
   ]
  },
  {
   "cell_type": "code",
   "execution_count": null,
   "metadata": {},
   "outputs": [],
   "source": [
    "df = pd.read_excel('../data/example-inflow-karahan-adjusted.xlsx')\n",
    "df = df.set_index('Time')"
   ]
  },
  {
   "cell_type": "code",
   "execution_count": null,
   "metadata": {},
   "outputs": [],
   "source": [
    "import seaborn as sns\n",
    "sns.set()\n",
    "sns.set_context(\"paper\", rc={\"font.size\":8.0, \n",
    "                             'lines.linewidth':1, \n",
    "                             'patch.linewidth':0.5, \n",
    "                             \"axes.titlesize\":8, \n",
    "                             \"axes.labelsize\":8, \n",
    "                             'xtick.labelsize':8, \n",
    "                             'ytick.labelsize':8, \n",
    "                             'legend.fontsize':8 ,  \n",
    "                             'pgf.rcfonts' : False})"
   ]
  },
  {
   "cell_type": "code",
   "execution_count": null,
   "metadata": {},
   "outputs": [],
   "source": [
    "t = df.index.values\n",
    "I = np.array(df['Inflow'])\n",
    "\n",
    "fig = plt.figure(figsize=(5,2.5),dpi=150)\n",
    "fig.patch.set_alpha(0)\n",
    "ax = fig.add_subplot(111)\n",
    "    \n",
    "plt.plot(t,I,linewidth = 1 , label = 'inflow')\n",
    "    \n",
    "for x in [0,0.25,0.5]:\n",
    "    k = 1\n",
    "    dt = 1\n",
    "    out = calc_Out(I,calc_C(k,x,dt))\n",
    "    plt.plot(t, out,linewidth = 1, label = 'outflow $x$ = ' + '{:1.2f}'.format(x))    \n",
    "\n",
    "    \n",
    "plt.ylabel('Flow, $Q$ [m$^3$/s]')\n",
    "plt.xlabel('Time [h]')\n",
    "plt.legend()\n",
    "plt.xlim(2,20);\n",
    "plt.tight_layout()\n",
    "plt.savefig('../../thesis/report/figs/1reachx.pgf', bbox_inches = 'tight')"
   ]
  },
  {
   "cell_type": "markdown",
   "metadata": {},
   "source": [
    "## Figure 5.4"
   ]
  },
  {
   "cell_type": "code",
   "execution_count": null,
   "metadata": {},
   "outputs": [],
   "source": [
    "t = df.index.values\n",
    "I = np.array(df['Inflow'])\n",
    "\n",
    "length = 50\n",
    "t = range(0,length,1)\n",
    "I = np.append(I,np.full((1,length - len(I)),22))\n",
    "\n",
    "fig = plt.figure(figsize=(5,2.5),dpi=150)\n",
    "fig.patch.set_alpha(0)\n",
    "ax = fig.add_subplot(111)\n",
    "    \n",
    "plt.plot(t,I,linewidth = 1 , label = 'inflow')\n",
    "\n",
    "klist = [1,3,5,10,25,50]\n",
    "for k in klist:\n",
    "    x = 0.01\n",
    "    dt = 1 \n",
    "    out = calc_Out(I,calc_C(k,x,dt))\n",
    "    plt.plot(t, out,linewidth = 1, label = 'outflow $k$ = ' + '{:02d}'.format(k)) \n",
    "    \n",
    "plt.ylabel('Flow, $Q$ [m$^3$/s]')\n",
    "plt.xlabel('Time [h]')\n",
    "plt.legend();\n",
    "plt.tight_layout()\n",
    "plt.savefig('../../thesis/report/figs/1reachk.pgf', bbox_inches = 'tight')"
   ]
  },
  {
   "cell_type": "code",
   "execution_count": null,
   "metadata": {},
   "outputs": [],
   "source": []
  }
 ],
 "metadata": {
  "kernelspec": {
   "display_name": "Python 3",
   "language": "python",
   "name": "python3"
  },
  "language_info": {
   "codemirror_mode": {
    "name": "ipython",
    "version": 3
   },
   "file_extension": ".py",
   "mimetype": "text/x-python",
   "name": "python",
   "nbconvert_exporter": "python",
   "pygments_lexer": "ipython3",
   "version": "3.7.4"
  }
 },
 "nbformat": 4,
 "nbformat_minor": 4
}
