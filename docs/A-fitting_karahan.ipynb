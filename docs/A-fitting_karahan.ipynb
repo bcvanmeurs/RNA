{
 "cells": [
  {
   "cell_type": "code",
   "execution_count": null,
   "metadata": {},
   "outputs": [],
   "source": [
    "import sys\n",
    "import os\n",
    "cwd = os.getcwd()\n",
    "os.chdir(os.path.join(cwd,'..'))\n",
    "sys.path.append(os.path.join(cwd,'..'))"
   ]
  },
  {
   "cell_type": "code",
   "execution_count": null,
   "metadata": {},
   "outputs": [],
   "source": [
    "import pandas as pd\n",
    "import numpy as np\n",
    "import matplotlib.pyplot as plt\n",
    "from fit_muskingum import getParams\n",
    "from fit_muskingum import calc_Out\n",
    "from fit_muskingum import calc_C"
   ]
  },
  {
   "cell_type": "code",
   "execution_count": null,
   "metadata": {},
   "outputs": [],
   "source": [
    "df = pd.read_excel('./data/example-inflow-karahan.xlsx')\n",
    "df = df.set_index('Time')"
   ]
  },
  {
   "cell_type": "code",
   "execution_count": null,
   "metadata": {},
   "outputs": [],
   "source": [
    "t = df.index.values\n",
    "I = np.array(df['Inflow'])\n",
    "O = np.array(df['Outflow'])"
   ]
  },
  {
   "cell_type": "code",
   "execution_count": null,
   "metadata": {},
   "outputs": [],
   "source": [
    "plt.plot(t,I)\n",
    "plt.plot(t,O)\n",
    "\n",
    "# x = 0.221, k = 29.165 hours, dt = 6 hours\n",
    "x = 0.221\n",
    "k = 29.165\n",
    "dt = 6\n",
    "\n",
    "C0 = calc_C(k,x,dt) # k,x,dt\n",
    "O_paper = calc_Out(I,C0)\n",
    "df['karahan'] = O_paper\n",
    "plt.plot(t, O_paper ,'gx')"
   ]
  },
  {
   "cell_type": "code",
   "execution_count": null,
   "metadata": {},
   "outputs": [],
   "source": [
    "params = getParams(I,O,6)\n",
    "params"
   ]
  },
  {
   "cell_type": "code",
   "execution_count": null,
   "metadata": {
    "lines_to_next_cell": 0
   },
   "outputs": [],
   "source": [
    "C_est = calc_C(params['k'],params['x'],6)\n",
    "O_est = calc_Out(I,C_est)\n",
    "\n",
    "plt.plot(t,I)\n",
    "plt.plot(t,O)\n",
    "plt.plot(t,O_paper,'g--')\n",
    "plt.plot(t,O_est,'rx')\n",
    "df['estimated'] = O_est"
   ]
  }
 ],
 "metadata": {
  "kernelspec": {
   "display_name": "Python 3",
   "language": "python",
   "name": "python3"
  },
  "language_info": {
   "codemirror_mode": {
    "name": "ipython",
    "version": 3
   },
   "file_extension": ".py",
   "mimetype": "text/x-python",
   "name": "python",
   "nbconvert_exporter": "python",
   "pygments_lexer": "ipython3",
   "version": "3.7.4"
  }
 },
 "nbformat": 4,
 "nbformat_minor": 4
}
