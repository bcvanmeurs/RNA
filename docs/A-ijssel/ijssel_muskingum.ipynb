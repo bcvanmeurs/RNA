{
 "cells": [
  {
   "cell_type": "markdown",
   "metadata": {},
   "source": [
    "# Muskingum routing in the IJssel "
   ]
  },
  {
   "cell_type": "markdown",
   "metadata": {},
   "source": [
    "Script to verify code generating flows in the IJssel, or multiple river segments in sequence.\n",
    "Output of this script corresponds to [verfication model](ijssel_muskingum_verification.ipynb)."
   ]
  },
  {
   "cell_type": "code",
   "execution_count": null,
   "metadata": {},
   "outputs": [],
   "source": [
    "import sys\n",
    "import os\n",
    "import pandas as pd\n",
    "import numpy as np\n",
    "import matplotlib.pyplot as plt"
   ]
  },
  {
   "cell_type": "code",
   "execution_count": null,
   "metadata": {},
   "outputs": [],
   "source": [
    "from context import fit_muskingum\n",
    "from fit_muskingum import getParams\n",
    "from fit_muskingum import calc_Out\n",
    "from fit_muskingum import calc_C\n",
    "import generate_network"
   ]
  },
  {
   "cell_type": "code",
   "execution_count": null,
   "metadata": {},
   "outputs": [],
   "source": [
    "G, dike_list = generate_network.get_network()"
   ]
  },
  {
   "cell_type": "code",
   "execution_count": null,
   "metadata": {},
   "outputs": [],
   "source": [
    "for x in dike_list:\n",
    "    print(G.node[x])"
   ]
  },
  {
   "cell_type": "code",
   "execution_count": null,
   "metadata": {},
   "outputs": [],
   "source": [
    "G.node['A.0']['Qout'] = 2000 * G.node['A.0']['Qevents_shape'].loc[0]"
   ]
  },
  {
   "cell_type": "code",
   "execution_count": null,
   "metadata": {},
   "outputs": [],
   "source": [
    "Qin = 2000 * G.node['A.0']['Qevents_shape'].loc[0]"
   ]
  },
  {
   "cell_type": "code",
   "execution_count": null,
   "metadata": {},
   "outputs": [],
   "source": [
    "df = pd.DataFrame({'Qin':Qin})"
   ]
  },
  {
   "cell_type": "code",
   "execution_count": null,
   "metadata": {},
   "outputs": [],
   "source": [
    "x = -1.055501123\n",
    "k = 0.378929169\n",
    "dt = 1\n",
    "\n",
    "C1 = calc_C(k,x,dt)\n",
    "QA1 = calc_Out(Qin,C1)\n",
    "#df['A.1test'] = QA1"
   ]
  },
  {
   "cell_type": "code",
   "execution_count": null,
   "metadata": {},
   "outputs": [],
   "source": [
    "params = pd.read_excel('../../data/params.xlsx',index_col=0)\n",
    "params"
   ]
  },
  {
   "cell_type": "code",
   "execution_count": null,
   "metadata": {},
   "outputs": [],
   "source": [
    "params.loc['A.0']['K']"
   ]
  },
  {
   "cell_type": "code",
   "execution_count": null,
   "metadata": {},
   "outputs": [],
   "source": [
    "Qin = 2000 * G.node['A.0']['Qevents_shape'].loc[0]\n",
    "\n",
    "nodes = ['A.0','A.1','A.2','A.3','A.4']\n",
    "nodes_title = ['A.1','A.2','A.3','A.4','A.5']\n",
    "i=0\n",
    "for node in nodes:\n",
    "    k = params.loc[node]['K']\n",
    "    x = params.loc[node]['X']\n",
    "    dt = 1\n",
    "    C = calc_C(k,x,dt)\n",
    "    Qin = calc_Out(Qin,C)\n",
    "    df[nodes_title[i]] = Qin\n",
    "    i = i+1"
   ]
  },
  {
   "cell_type": "code",
   "execution_count": null,
   "metadata": {},
   "outputs": [],
   "source": [
    "df"
   ]
  },
  {
   "cell_type": "code",
   "execution_count": null,
   "metadata": {},
   "outputs": [],
   "source": [
    "df.plot(figsize=(20,10))"
   ]
  },
  {
   "cell_type": "code",
   "execution_count": null,
   "metadata": {},
   "outputs": [],
   "source": [
    "#%qtconsole"
   ]
  },
  {
   "cell_type": "markdown",
   "metadata": {},
   "source": [
    "## Figure 5.2 for thesis"
   ]
  },
  {
   "cell_type": "code",
   "execution_count": null,
   "metadata": {},
   "outputs": [],
   "source": [
    "import seaborn as sns\n",
    "sns.set_context(\"paper\", rc={\"font.size\":8.0, \n",
    "                             'lines.linewidth':0.5, \n",
    "                             'patch.linewidth':0.5, \n",
    "                             \"axes.titlesize\":8, \n",
    "                             \"axes.labelsize\":8, \n",
    "                             'xtick.labelsize':8, \n",
    "                             'ytick.labelsize':8, \n",
    "                             'legend.fontsize':8 ,  \n",
    "                             'pgf.rcfonts' : False})"
   ]
  },
  {
   "cell_type": "code",
   "execution_count": null,
   "metadata": {
    "lines_to_next_cell": 0
   },
   "outputs": [],
   "source": [
    "fig = plt.figure(figsize=(3,2.5),dpi=150)\n",
    "ax = fig.add_subplot(111)\n",
    "\n",
    "#fig.set_size_inches(6,3)\n",
    "fig.patch.set_alpha(0)\n",
    "fig.set_dpi(150)\n",
    "\n",
    "#plt.plot(t,I,linewidth = 1 , label = 'inflow')\n",
    "df.plot(ax=ax, linewidth = 0.5)\n",
    "\n",
    "plt.ylabel('Flow, $Q$ [m$^3$/s]')\n",
    "plt.xlabel('Time [h]')\n",
    "plt.legend()\n",
    "#plt.tight_layout()\n",
    "# save to file\n",
    "#plt.savefig('../../../thesis/report/figs/ijssel.pdf', bbox_inches = 'tight')\n",
    "#plt.savefig('../../../thesis/report/figs/ijssel.pgf', bbox_inches = 'tight')"
   ]
  }
 ],
 "metadata": {
  "kernelspec": {
   "display_name": "Python 3",
   "language": "python",
   "name": "python3"
  },
  "language_info": {
   "codemirror_mode": {
    "name": "ipython",
    "version": 3
   },
   "file_extension": ".py",
   "mimetype": "text/x-python",
   "name": "python",
   "nbconvert_exporter": "python",
   "pygments_lexer": "ipython3",
   "version": "3.7.4"
  }
 },
 "nbformat": 4,
 "nbformat_minor": 4
}
