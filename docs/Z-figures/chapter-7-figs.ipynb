{
 "cells": [
  {
   "cell_type": "markdown",
   "metadata": {},
   "source": [
    "# Chapter 7 figures"
   ]
  },
  {
   "cell_type": "markdown",
   "metadata": {},
   "source": [
    "## Figure 7.1"
   ]
  },
  {
   "cell_type": "code",
   "execution_count": null,
   "metadata": {},
   "outputs": [],
   "source": [
    "import context"
   ]
  },
  {
   "cell_type": "code",
   "execution_count": null,
   "metadata": {},
   "outputs": [],
   "source": [
    "import seaborn as sns\n",
    "import pickle\n",
    "import matplotlib.pyplot as plt\n",
    "f = open(\"data_results/raw_object_130616_130617.pkl\",\"rb\")\n",
    "raw_data = pickle.load(f)\n",
    "sns.set()\n",
    "#sns.set_style(\"whitegrid\")\n",
    "sns.set_context(\"paper\", rc={\"font.size\":8.0, \n",
    "                             'lines.linewidth':0.6, \n",
    "                             'patch.linewidth':0.5, \n",
    "                             \"axes.titlesize\":8, \n",
    "                             \"axes.labelsize\":8, \n",
    "                             'xtick.labelsize':8, \n",
    "                             'ytick.labelsize':8, \n",
    "                             'legend.fontsize':8 ,  \n",
    "                             'pgf.rcfonts' : False})  "
   ]
  },
  {
   "cell_type": "code",
   "execution_count": null,
   "metadata": {},
   "outputs": [],
   "source": [
    "(fig,ax) = raw_data.plot_node_flows(50000000)\n",
    "fig.set_size_inches(6,3)\n",
    "fig.patch.set_alpha(0)\n",
    "fig.set_dpi(150)\n",
    "plt.title('Example discharge pattern')\n",
    "plt.tight_layout()\n",
    "#plt.savefig('../../thesis/report/figs/discharge_example.pdf', bbox_inches = 'tight')\n",
    "#plt.savefig('../../thesis/report/figs/discharge_example.pgf', bbox_inches = 'tight')"
   ]
  },
  {
   "cell_type": "code",
   "execution_count": null,
   "metadata": {},
   "outputs": [],
   "source": []
  }
 ],
 "metadata": {
  "kernelspec": {
   "display_name": "Python 3",
   "language": "python",
   "name": "python3"
  },
  "language_info": {
   "codemirror_mode": {
    "name": "ipython",
    "version": 3
   },
   "file_extension": ".py",
   "mimetype": "text/x-python",
   "name": "python",
   "nbconvert_exporter": "python",
   "pygments_lexer": "ipython3",
   "version": "3.7.4"
  }
 },
 "nbformat": 4,
 "nbformat_minor": 4
}
