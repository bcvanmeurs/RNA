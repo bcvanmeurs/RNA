{
 "cells": [
  {
   "cell_type": "markdown",
   "metadata": {},
   "source": [
    "# Model verification"
   ]
  },
  {
   "cell_type": "markdown",
   "metadata": {},
   "source": [
    "In this notebook the model is verified by comparing outcomes of two different examples."
   ]
  },
  {
   "cell_type": "code",
   "execution_count": null,
   "metadata": {},
   "outputs": [],
   "source": [
    "import pandas as pd\n",
    "import networkx as nx\n",
    "import matplotlib.pyplot as plt\n",
    "import numpy as np"
   ]
  },
  {
   "cell_type": "code",
   "execution_count": null,
   "metadata": {},
   "outputs": [],
   "source": [
    "from context import RiverNetwork\n",
    "from RiverNetwork import RiverNetwork"
   ]
  },
  {
   "cell_type": "code",
   "execution_count": null,
   "metadata": {},
   "outputs": [],
   "source": [
    "%load_ext autoreload\n",
    "%autoreload 2"
   ]
  },
  {
   "cell_type": "markdown",
   "metadata": {},
   "source": [
    "## University of Colorado Boulder example"
   ]
  },
  {
   "cell_type": "markdown",
   "metadata": {},
   "source": [
    "This is the most straightforward example that I could find.\n",
    "It is a simple one segment model.\n",
    "$k$  and $x$ are estimated to 2.3h and 0.151559154 respectively.\n",
    "\n",
    "http://www.engr.colostate.edu/~ramirez/ce_old/classes/cive322-Ramirez/CE322_Web/Example_MuskingumRouting.htm"
   ]
  },
  {
   "cell_type": "markdown",
   "metadata": {},
   "source": [
    "### Loading data"
   ]
  },
  {
   "cell_type": "markdown",
   "metadata": {},
   "source": [
    "The structure is loaded as well as the inflow.\n",
    "On the graph we can see the correct $k$ and $x$"
   ]
  },
  {
   "cell_type": "code",
   "execution_count": null,
   "metadata": {},
   "outputs": [],
   "source": [
    "structure1 = RiverNetwork('../data/single-segment-boulder.xlsx')\n",
    "structure1.draw(figsize=(3,3))"
   ]
  },
  {
   "cell_type": "code",
   "execution_count": null,
   "metadata": {},
   "outputs": [],
   "source": [
    "inflow = np.array(pd.read_excel('../data/example-inflow-boulder.xlsx').Inflow)\n",
    "structure1.set_shape('S.1',21,inflow-50)\n",
    "structure1.draw_Qin(only_sources=True,figsize=(7,4))"
   ]
  },
  {
   "cell_type": "markdown",
   "metadata": {},
   "source": [
    "### Results of flow propagation"
   ]
  },
  {
   "cell_type": "markdown",
   "metadata": {},
   "source": [
    "The flow is calculated for the sink node."
   ]
  },
  {
   "cell_type": "code",
   "execution_count": null,
   "metadata": {},
   "outputs": [],
   "source": [
    "structure1.calc_flow_propagation(20)\n",
    "structure1.draw_Qin(figsize=(7,5))"
   ]
  },
  {
   "cell_type": "markdown",
   "metadata": {},
   "source": [
    "Inflow for node S.1"
   ]
  },
  {
   "cell_type": "code",
   "execution_count": null,
   "metadata": {},
   "outputs": [],
   "source": [
    "print(structure1.get_Graph().nodes['S.1']['Qin'])"
   ]
  },
  {
   "cell_type": "markdown",
   "metadata": {},
   "source": [
    "Inflow/outflow for sink E.1"
   ]
  },
  {
   "cell_type": "code",
   "execution_count": null,
   "metadata": {},
   "outputs": [],
   "source": [
    "print(structure1.get_Graph().nodes['E.1']['Qin'])"
   ]
  },
  {
   "cell_type": "markdown",
   "metadata": {},
   "source": [
    "These results are then compared to the results of the webpage.\n",
    "The figure shows that the results are almost similar.\n",
    "The small differences in outflow can be explained by rounding errors."
   ]
  },
  {
   "cell_type": "markdown",
   "metadata": {},
   "source": [
    "![Boulder results](_static/boulder.png)"
   ]
  },
  {
   "cell_type": "markdown",
   "metadata": {},
   "source": [
    "## Karahan example"
   ]
  },
  {
   "cell_type": "markdown",
   "metadata": {},
   "source": [
    "In this example the Wilson dataset from the Karahan paper is used.\n",
    "Karahan compared different estimation techniques.\n",
    "It is a simple one segment model.\n",
    "The most interesting difference here is that $\\Delta t$ is not 1 but karahan uses a value of 6.\n",
    "For this dataset the $x$ is estimated on 0.021 and $k$ to 29.165.\n",
    "This can also be seen in the figure.\n",
    "The base load is set to 22."
   ]
  },
  {
   "cell_type": "markdown",
   "metadata": {},
   "source": [
    "https://onlinelibrary.wiley.com/doi/full/10.1002/cae.20394"
   ]
  },
  {
   "cell_type": "markdown",
   "metadata": {},
   "source": [
    "### Loading data"
   ]
  },
  {
   "cell_type": "code",
   "execution_count": null,
   "metadata": {},
   "outputs": [],
   "source": [
    "structure2 = RiverNetwork('../data/single-segment-karahan.xlsx',dt=6)\n",
    "structure2.draw(figsize=(3,3))"
   ]
  },
  {
   "cell_type": "code",
   "execution_count": null,
   "metadata": {},
   "outputs": [],
   "source": [
    "inflow = np.array(pd.read_excel('../data/example-inflow-karahan.xlsx').Inflow)\n",
    "structure2.set_shape('S.1',21,inflow-22)\n",
    "structure2.draw_Qin(only_sources=True,figsize=(7,4))"
   ]
  },
  {
   "cell_type": "markdown",
   "metadata": {},
   "source": [
    "### Results of flow propagation"
   ]
  },
  {
   "cell_type": "markdown",
   "metadata": {},
   "source": [
    "The flow is calculated for the sink node."
   ]
  },
  {
   "cell_type": "code",
   "execution_count": null,
   "metadata": {},
   "outputs": [],
   "source": [
    "structure2.calc_flow_propagation(22)\n",
    "structure2.draw_Qin(figsize=(7,5))"
   ]
  },
  {
   "cell_type": "markdown",
   "metadata": {},
   "source": [
    "The input and output data is shown:"
   ]
  },
  {
   "cell_type": "markdown",
   "metadata": {},
   "source": [
    "Inflow for node S.1"
   ]
  },
  {
   "cell_type": "code",
   "execution_count": null,
   "metadata": {},
   "outputs": [],
   "source": [
    "structure2.get_Graph().nodes['S.1']['Qin']"
   ]
  },
  {
   "cell_type": "markdown",
   "metadata": {},
   "source": [
    "Inflow/outflow for node E.1"
   ]
  },
  {
   "cell_type": "code",
   "execution_count": null,
   "metadata": {},
   "outputs": [],
   "source": [
    "structure2.get_Graph().nodes['E.1']['Qin']"
   ]
  },
  {
   "cell_type": "markdown",
   "metadata": {},
   "source": [
    "These results are compared to the results of Karahan.\n",
    "And as can be seen in the following figure, the output of the model is the same for Procedure II."
   ]
  },
  {
   "cell_type": "markdown",
   "metadata": {},
   "source": [
    "![Karahan results](_static/karahan.png)\n",
    "\n",
    "Karahan, H. (2012). Predicting Muskingum flood routing parameters using spreadsheets. Computer Applications in Engineering Education, 20(2), 280-286."
   ]
  },
  {
   "cell_type": "markdown",
   "metadata": {},
   "source": [
    ".. warning:: It should be noted that Karahan seems to use an invalid value for $\\Delta t = 6$. According to theory, the minimum value should be $2kx = 13$."
   ]
  },
  {
   "cell_type": "markdown",
   "metadata": {},
   "source": [
    "## Verification of multiple river segments"
   ]
  },
  {
   "cell_type": "markdown",
   "metadata": {},
   "source": [
    "The only model known that incorporates multiple river segements is the model of Ciullo.\n",
    "In this paper the IJssel is modelled as multiple muskingum segments in sequence.\n",
    "His code is published on Github: https://github.com/quaquel/epa1361_open.\n",
    "\n",
    "Ciullo, A., de Bruijn, K. M., Kwakkel, J. H., & Klijn, F. (2019). Accounting for the uncertain effects of hydraulic interactions in optimising embankments heights: Proof of principle for the IJssel River. Journal of Flood Risk Management, e12532.\n",
    "https://onlinelibrary.wiley.com/doi/pdf/10.1111/jfr3.12532\n",
    "\n",
    "Parts of this code were extracted to understand the techniques used.\n",
    "Then my own code was run on the same data and yielded exactly the same results.\n",
    "These two notebooks are not commented but show the same results.\n",
    "The model is thus verified under multiple segments.\n",
    "\n",
    "### IJssel model\n",
    "[IJssel model in my code](ijssel/ijssel_muskingum.ipynb)\n",
    "\n",
    "\n",
    "### IJssel model verification script\n",
    "[IJssel model in reference code](ijssel/ijssel_muskingum_verification.ipynb)"
   ]
  }
 ],
 "metadata": {
  "kernelspec": {
   "display_name": "Python 3",
   "language": "python",
   "name": "python3"
  },
  "language_info": {
   "codemirror_mode": {
    "name": "ipython",
    "version": 3
   },
   "file_extension": ".py",
   "mimetype": "text/x-python",
   "name": "python",
   "nbconvert_exporter": "python",
   "pygments_lexer": "ipython3",
   "version": "3.7.4"
  }
 },
 "nbformat": 4,
 "nbformat_minor": 4
}
