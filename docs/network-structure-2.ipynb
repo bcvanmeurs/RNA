{
 "cells": [
  {
   "cell_type": "markdown",
   "metadata": {},
   "source": [
    "# Network 2: adding a bifurcation"
   ]
  },
  {
   "cell_type": "markdown",
   "metadata": {},
   "source": [
    "This simple network contains confluences and a single bifurcations."
   ]
  },
  {
   "cell_type": "code",
   "execution_count": null,
   "metadata": {},
   "outputs": [],
   "source": [
    "import pandas as pd\n",
    "import networkx as nx\n",
    "import matplotlib.pyplot as plt\n",
    "import numpy as np"
   ]
  },
  {
   "cell_type": "code",
   "execution_count": null,
   "metadata": {},
   "outputs": [],
   "source": [
    "from context import RiverNetwork\n",
    "from RiverNetwork import RiverNetwork"
   ]
  },
  {
   "cell_type": "markdown",
   "metadata": {},
   "source": [
    "## Loading network structure"
   ]
  },
  {
   "cell_type": "markdown",
   "metadata": {},
   "source": [
    "An extra file containing wave shapes is loaded as well.\n",
    "This file makes it possible to select arbitrary wave shapes as input flows."
   ]
  },
  {
   "cell_type": "code",
   "execution_count": null,
   "metadata": {},
   "outputs": [],
   "source": [
    "structure1 = RiverNetwork('../data/network-structure-2.xlsx',wave_shapes_location='../data/wave_shapes.xls')"
   ]
  },
  {
   "cell_type": "code",
   "execution_count": null,
   "metadata": {},
   "outputs": [],
   "source": [
    "structure1.draw()"
   ]
  },
  {
   "cell_type": "code",
   "execution_count": null,
   "metadata": {},
   "outputs": [],
   "source": [
    "structure1.draw_base_loads(figsize=(7,4))"
   ]
  },
  {
   "cell_type": "markdown",
   "metadata": {},
   "source": [
    "## Determining calculation order"
   ]
  },
  {
   "cell_type": "markdown",
   "metadata": {},
   "source": [
    "The procedure for determining calculation order with multiple sinks is slight different.\n",
    "In that case a virtual sink is added to the system and all other sinks are connected to this node.\n",
    "Then a the same procedure is repeated: reversed BFS starting at this virtual sink.\n",
    "The resulting list is reversed and the result is a calculation order that guarantees that always all upstream flows are already calculated."
   ]
  },
  {
   "cell_type": "markdown",
   "metadata": {},
   "source": [
    "![Calculation order](_static/calculation_order.pdf)"
   ]
  },
  {
   "cell_type": "markdown",
   "metadata": {},
   "source": [
    "Example of the calculation order determining.\n",
    "In the left graph a temporary node and edges are added in red.\n",
    "From this node the reversed breadth-first search algorithm finds edges in a certain order.\n",
    "The order is indicated with numbers next to the edges.\n",
    "In the right graph the order of these edges is reversed and the temporary edges and node are removed.\n",
    "The order now corresponds to the calculation order that guarantees that all upstream parts are calculated before traversing downstream.\n",
    "This can be seen best at node A.3: all upstream edges are traversed before going downstream."
   ]
  },
  {
   "cell_type": "markdown",
   "metadata": {},
   "source": [
    "## Experiment 1"
   ]
  },
  {
   "cell_type": "code",
   "execution_count": null,
   "metadata": {},
   "outputs": [],
   "source": [
    "structure1.set_constant_flow('S.1',31)\n",
    "structure1.set_wave('S.2',shape_number=5,strength=5)\n",
    "structure1.set_wave('S.3',shape_number=90,strength=5)\n",
    "structure1.set_constant_flow('S.4',31)\n",
    "structure1.draw_Qin(only_sources=True,figsize=(7,4))"
   ]
  },
  {
   "cell_type": "code",
   "execution_count": null,
   "metadata": {},
   "outputs": [],
   "source": [
    "structure1.calc_flow_propagation(30)\n",
    "structure1.draw_Qin(figsize=(7,5))"
   ]
  },
  {
   "cell_type": "markdown",
   "metadata": {},
   "source": [
    ".. warning:: Coloring should change to improve readability.\n",
    "E.g. cluster nodes and give similar colors."
   ]
  },
  {
   "cell_type": "markdown",
   "metadata": {},
   "source": [
    "## Experiment 2"
   ]
  },
  {
   "cell_type": "markdown",
   "metadata": {},
   "source": [
    "Now it is possible to add any other extra inflow.\n",
    "In the following experiment a peak flow is added to S.1."
   ]
  },
  {
   "cell_type": "code",
   "execution_count": null,
   "metadata": {},
   "outputs": [],
   "source": [
    "shape = np.zeros(30)\n",
    "shape[4] = 1\n",
    "shape[5] = 3\n",
    "shape[6] = 10\n",
    "shape[7] = 3\n",
    "shape[8] = 1\n",
    "structure1.set_shape('S.1',30,shape)\n",
    "structure1.set_wave('S.2',shape_number=5,strength=5)\n",
    "structure1.set_wave('S.3',shape_number=90,strength=5)\n",
    "structure1.set_constant_flow('S.4',30)\n",
    "structure1.draw_Qin(only_sources=True,figsize=(7,4))"
   ]
  },
  {
   "cell_type": "code",
   "execution_count": null,
   "metadata": {},
   "outputs": [],
   "source": [
    "structure1.calc_flow_propagation(30)\n",
    "structure1.draw_Qin(figsize=(7,5))"
   ]
  }
 ],
 "metadata": {
  "kernelspec": {
   "display_name": "Python 3",
   "language": "python",
   "name": "python3"
  },
  "language_info": {
   "codemirror_mode": {
    "name": "ipython",
    "version": 3
   },
   "file_extension": ".py",
   "mimetype": "text/x-python",
   "name": "python",
   "nbconvert_exporter": "python",
   "pygments_lexer": "ipython3",
   "version": "3.7.4"
  }
 },
 "nbformat": 4,
 "nbformat_minor": 4
}
