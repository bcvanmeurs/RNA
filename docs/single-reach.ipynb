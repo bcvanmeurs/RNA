{
 "cells": [
  {
   "cell_type": "markdown",
   "metadata": {},
   "source": [
    "# Single Reach"
   ]
  },
  {
   "cell_type": "markdown",
   "metadata": {},
   "source": [
    "In this notebook the effect of different parameter settings of $x$ and $k$ is shown."
   ]
  },
  {
   "cell_type": "markdown",
   "metadata": {},
   "source": [
    ".. Note:: This is written in old code and will be replaced later using the network model class. \n",
    "The other parts already use the network model class."
   ]
  },
  {
   "cell_type": "markdown",
   "metadata": {},
   "source": [
    "## Initialising model"
   ]
  },
  {
   "cell_type": "code",
   "execution_count": null,
   "metadata": {},
   "outputs": [],
   "source": [
    "import pandas as pd\n",
    "import numpy as np\n",
    "import matplotlib.pyplot as plt"
   ]
  },
  {
   "cell_type": "code",
   "execution_count": null,
   "metadata": {},
   "outputs": [],
   "source": [
    "from context import fit_muskingum\n",
    "from fit_muskingum import getParams\n",
    "from fit_muskingum import calc_Out\n",
    "from fit_muskingum import calc_C"
   ]
  },
  {
   "cell_type": "code",
   "execution_count": null,
   "metadata": {},
   "outputs": [],
   "source": [
    "df = pd.read_excel('../data/example-inflow-karahan-adjusted.xlsx')\n",
    "df = df.set_index('Time')"
   ]
  },
  {
   "cell_type": "code",
   "execution_count": null,
   "metadata": {},
   "outputs": [],
   "source": [
    "t = df.index.values\n",
    "I = np.array(df['Inflow'])\n",
    "fig = plt.figure(figsize=(7,2.5),dpi=150)\n",
    "fig.patch.set_alpha(0)\n",
    "\n",
    "\n",
    "ax = fig.add_subplot(111)\n",
    "for axis in ['top','bottom','left','right']:\n",
    "    ax.spines[axis].set_linewidth(0.5)\n",
    "\n",
    "plt.plot(t,I,linewidth = 1 , label = 'inflow')\n",
    "plt.rcParams.update({'font.size': 8, 'pgf.rcfonts' : False})\n",
    "\n",
    "x = 0.2\n",
    "k = 2\n",
    "dt = 1\n",
    "\n",
    "C0 = calc_C(k,x,dt) # k,x,dt\n",
    "O0 = calc_Out(I,C0)\n",
    "plt.plot(t, O0 ,'g',linewidth = 1, label = 'outflow')\n",
    "\n",
    "plt.ylabel('Flow, $Q$ [m$^3$/s]')\n",
    "plt.xlabel('Time [h]')\n",
    "plt.legend();\n",
    "# save to file\n",
    "#plt.savefig('../thesis/report/figs/1reach.pdf', bbox_inches = 'tight')\n",
    "#plt.savefig('../thesis/report/figs/1reach.pgf', bbox_inches = 'tight')"
   ]
  },
  {
   "cell_type": "markdown",
   "metadata": {},
   "source": [
    "The blue line is the inflow to the reach.\n",
    "The reach has parameters $x = 0.2$, $k = 2$ and $\\Delta t = 1$\n",
    "The resulting outflow is shown in green."
   ]
  },
  {
   "cell_type": "markdown",
   "metadata": {},
   "source": [
    "## Understanding $k$"
   ]
  },
  {
   "cell_type": "markdown",
   "metadata": {},
   "source": [
    "To understand what happens the effect is of $k$, it is varied while keeping $x$ constant.\n",
    "$x$ is fixed to 0.01 while $k$ takes the values: 1, 3, 5, 10, 25, 50.\n",
    "Again $\\Delta t$ is set to 1."
   ]
  },
  {
   "cell_type": "code",
   "execution_count": null,
   "metadata": {},
   "outputs": [],
   "source": [
    "t = df.index.values\n",
    "I = np.array(df['Inflow'])\n",
    "\n",
    "length = 50\n",
    "t = range(0,length,1)\n",
    "I = np.append(I,np.full((1,length - len(I)),22))\n",
    "\n",
    "fig = plt.figure(figsize=(7,2.5),dpi=150)\n",
    "fig.patch.set_alpha(0)\n",
    "ax = fig.add_subplot(111)\n",
    "for axis in ['top','bottom','left','right']:\n",
    "    ax.spines[axis].set_linewidth(0.5)\n",
    "plt.rcParams.update({'font.size': 8, 'pgf.rcfonts' : False})\n",
    "    \n",
    "plt.plot(t,I,linewidth = 1 , label = 'inflow')\n",
    "\n",
    "klist = [1,3,5,10,25,50]\n",
    "for k in klist:\n",
    "    x = 0.01\n",
    "    dt = 1 \n",
    "    out = calc_Out(I,calc_C(k,x,dt))\n",
    "    plt.plot(t, out,linewidth = 1, label = 'outflow $k$ = ' + '{:02d}'.format(k)) \n",
    "    \n",
    "plt.ylabel('Flow, $Q$ [m$^3$/s]')\n",
    "plt.xlabel('Time [h]')\n",
    "plt.legend();"
   ]
  },
  {
   "cell_type": "markdown",
   "metadata": {},
   "source": [
    "It is clear that k is related to the delay or lag of the peak.\n",
    "The peaks shift to the right with increasing $k$.\n",
    "While the peaks shift, also the attenuation increases.\n",
    "Meanwhile, flow the total volume passed by, the area under the graph, remains the same."
   ]
  },
  {
   "cell_type": "markdown",
   "metadata": {},
   "source": [
    "## Understanding $x$ "
   ]
  },
  {
   "cell_type": "markdown",
   "metadata": {},
   "source": [
    "In the following section we do the same for $x$.\n",
    "It will take the values: 0, 0.25, 0.5.\n",
    "Both $k$ and $\\Delta t$ are kept constant at 1"
   ]
  },
  {
   "cell_type": "code",
   "execution_count": null,
   "metadata": {},
   "outputs": [],
   "source": [
    "t = df.index.values\n",
    "I = np.array(df['Inflow'])\n",
    "\n",
    "fig = plt.figure(figsize=(7,2.5),dpi=150)\n",
    "fig.patch.set_alpha(0)\n",
    "ax = fig.add_subplot(111)\n",
    "for axis in ['top','bottom','left','right']:\n",
    "    ax.spines[axis].set_linewidth(0.5)\n",
    "plt.rcParams.update({'font.size': 8, 'pgf.rcfonts' : False})\n",
    "    \n",
    "plt.plot(t,I,linewidth = 1 , label = 'inflow')\n",
    "    \n",
    "for x in [0,0.25,0.5]:\n",
    "    k = 1\n",
    "    dt = 1\n",
    "    out = calc_Out(I,calc_C(k,x,dt))\n",
    "    plt.plot(t, out,linewidth = 1, label = 'outflow $x$ = ' + '{:1.2f}'.format(x))    \n",
    "\n",
    "    \n",
    "plt.ylabel('Flow, $Q$ [m$^3$/s]')\n",
    "plt.xlabel('Time [h]')\n",
    "plt.legend()\n",
    "plt.xlim(2,20);"
   ]
  },
  {
   "cell_type": "markdown",
   "metadata": {},
   "source": [
    "As a result we can see that the $x$ behaves as the attenuation parameter.\n",
    "All graphs have the peak at the same timestep, so no shift in time has occurred.\n",
    "What differs is the height of each peak.\n",
    "For $x = 0.5$ no attenuation occurs, while for $x = 0$ maximum attenuation occurs."
   ]
  }
 ],
 "metadata": {
  "jupytext": {
   "encoding": "# -*- coding: utf-8 -*-"
  },
  "kernelspec": {
   "display_name": "Python 3",
   "language": "python",
   "name": "python3"
  },
  "language_info": {
   "codemirror_mode": {
    "name": "ipython",
    "version": 3
   },
   "file_extension": ".py",
   "mimetype": "text/x-python",
   "name": "python",
   "nbconvert_exporter": "python",
   "pygments_lexer": "ipython3",
   "version": "3.7.4"
  }
 },
 "nbformat": 4,
 "nbformat_minor": 4
}
